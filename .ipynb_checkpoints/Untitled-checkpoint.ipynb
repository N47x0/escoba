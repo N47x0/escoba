{
 "cells": [
  {
   "cell_type": "code",
   "execution_count": 8,
   "metadata": {},
   "outputs": [],
   "source": [
    "import pandas as pd\n",
    "from sqlalchemy import create_engine\n",
    "import random\n",
    "from collections import namedtuple\n",
    "from typing import List\n",
    "from itertools import combinations\n",
    "from functools import reduce\n",
    "\n"
   ]
  },
  {
   "cell_type": "code",
   "execution_count": 2,
   "metadata": {},
   "outputs": [],
   "source": [
    "rds_connection_string = \"root:password@127.0.0.1/test\"\n",
    "engine = create_engine(f'mysql://{rds_connection_string}')"
   ]
  },
  {
   "cell_type": "code",
   "execution_count": 3,
   "metadata": {},
   "outputs": [
    {
     "data": {
      "text/plain": [
       "['Cards', 'Deck']"
      ]
     },
     "execution_count": 3,
     "metadata": {},
     "output_type": "execute_result"
    }
   ],
   "source": [
    "engine.table_names()"
   ]
  },
  {
   "cell_type": "code",
   "execution_count": 6,
   "metadata": {},
   "outputs": [
    {
     "data": {
      "text/html": [
       "<div>\n",
       "<style scoped>\n",
       "    .dataframe tbody tr th:only-of-type {\n",
       "        vertical-align: middle;\n",
       "    }\n",
       "\n",
       "    .dataframe tbody tr th {\n",
       "        vertical-align: top;\n",
       "    }\n",
       "\n",
       "    .dataframe thead th {\n",
       "        text-align: right;\n",
       "    }\n",
       "</style>\n",
       "<table border=\"1\" class=\"dataframe\">\n",
       "  <thead>\n",
       "    <tr style=\"text-align: right;\">\n",
       "      <th></th>\n",
       "      <th>CardId</th>\n",
       "      <th>DeckId</th>\n",
       "      <th>Suit</th>\n",
       "      <th>Value</th>\n",
       "    </tr>\n",
       "  </thead>\n",
       "  <tbody>\n",
       "    <tr>\n",
       "      <th>0</th>\n",
       "      <td>1</td>\n",
       "      <td>1</td>\n",
       "      <td>Hearts</td>\n",
       "      <td>2</td>\n",
       "    </tr>\n",
       "    <tr>\n",
       "      <th>1</th>\n",
       "      <td>2</td>\n",
       "      <td>1</td>\n",
       "      <td>Hearts</td>\n",
       "      <td>3</td>\n",
       "    </tr>\n",
       "    <tr>\n",
       "      <th>2</th>\n",
       "      <td>3</td>\n",
       "      <td>1</td>\n",
       "      <td>Hearts</td>\n",
       "      <td>4</td>\n",
       "    </tr>\n",
       "    <tr>\n",
       "      <th>3</th>\n",
       "      <td>4</td>\n",
       "      <td>1</td>\n",
       "      <td>Hearts</td>\n",
       "      <td>5</td>\n",
       "    </tr>\n",
       "    <tr>\n",
       "      <th>4</th>\n",
       "      <td>5</td>\n",
       "      <td>1</td>\n",
       "      <td>Hearts</td>\n",
       "      <td>6</td>\n",
       "    </tr>\n",
       "  </tbody>\n",
       "</table>\n",
       "</div>"
      ],
      "text/plain": [
       "   CardId  DeckId    Suit Value\n",
       "0       1       1  Hearts     2\n",
       "1       2       1  Hearts     3\n",
       "2       3       1  Hearts     4\n",
       "3       4       1  Hearts     5\n",
       "4       5       1  Hearts     6"
      ]
     },
     "execution_count": 6,
     "metadata": {},
     "output_type": "execute_result"
    }
   ],
   "source": [
    "pd.read_sql_query('select * from Cards', con=engine).head()"
   ]
  },
  {
   "cell_type": "code",
   "execution_count": 7,
   "metadata": {},
   "outputs": [
    {
     "data": {
      "text/html": [
       "<div>\n",
       "<style scoped>\n",
       "    .dataframe tbody tr th:only-of-type {\n",
       "        vertical-align: middle;\n",
       "    }\n",
       "\n",
       "    .dataframe tbody tr th {\n",
       "        vertical-align: top;\n",
       "    }\n",
       "\n",
       "    .dataframe thead th {\n",
       "        text-align: right;\n",
       "    }\n",
       "</style>\n",
       "<table border=\"1\" class=\"dataframe\">\n",
       "  <thead>\n",
       "    <tr style=\"text-align: right;\">\n",
       "      <th></th>\n",
       "      <th>DeckId</th>\n",
       "      <th>DeckType</th>\n",
       "    </tr>\n",
       "  </thead>\n",
       "  <tbody>\n",
       "    <tr>\n",
       "      <th>0</th>\n",
       "      <td>1</td>\n",
       "      <td>Classic</td>\n",
       "    </tr>\n",
       "  </tbody>\n",
       "</table>\n",
       "</div>"
      ],
      "text/plain": [
       "   DeckId DeckType\n",
       "0       1  Classic"
      ]
     },
     "execution_count": 7,
     "metadata": {},
     "output_type": "execute_result"
    }
   ],
   "source": [
    "pd.read_sql_query('select * from Deck', con=engine).head()"
   ]
  },
  {
   "cell_type": "code",
   "execution_count": 9,
   "metadata": {},
   "outputs": [],
   "source": [
    "Card = namedtuple(\"Card\", ['suit', 'face', 'owner'])\n",
    "faces = list(range(1,11))\n",
    "suits = ['B', 'O', 'E', 'C']"
   ]
  },
  {
   "cell_type": "code",
   "execution_count": 10,
   "metadata": {},
   "outputs": [
    {
     "name": "stdout",
     "output_type": "stream",
     "text": [
      "<class '__main__.Card'>\n"
     ]
    }
   ],
   "source": [
    "print(Card)"
   ]
  },
  {
   "cell_type": "code",
   "execution_count": 11,
   "metadata": {},
   "outputs": [
    {
     "name": "stdout",
     "output_type": "stream",
     "text": [
      "[1, 2, 3, 4, 5, 6, 7, 8, 9, 10]\n"
     ]
    }
   ],
   "source": [
    "print(faces)"
   ]
  },
  {
   "cell_type": "code",
   "execution_count": 12,
   "metadata": {},
   "outputs": [
    {
     "name": "stdout",
     "output_type": "stream",
     "text": [
      "['B', 'O', 'E', 'C']\n"
     ]
    }
   ],
   "source": [
    "print(suits)"
   ]
  },
  {
   "cell_type": "code",
   "execution_count": 13,
   "metadata": {},
   "outputs": [],
   "source": [
    "def make_deck():\n",
    "  return {  str(n) + s: Card(suit=s, face=n, owner='') for n in faces for s in suits }\n",
    "\n"
   ]
  },
  {
   "cell_type": "code",
   "execution_count": 14,
   "metadata": {},
   "outputs": [
    {
     "name": "stdout",
     "output_type": "stream",
     "text": [
      "{'1B': Card(suit='B', face=1, owner=''), '1O': Card(suit='O', face=1, owner=''), '1E': Card(suit='E', face=1, owner=''), '1C': Card(suit='C', face=1, owner=''), '2B': Card(suit='B', face=2, owner=''), '2O': Card(suit='O', face=2, owner=''), '2E': Card(suit='E', face=2, owner=''), '2C': Card(suit='C', face=2, owner=''), '3B': Card(suit='B', face=3, owner=''), '3O': Card(suit='O', face=3, owner=''), '3E': Card(suit='E', face=3, owner=''), '3C': Card(suit='C', face=3, owner=''), '4B': Card(suit='B', face=4, owner=''), '4O': Card(suit='O', face=4, owner=''), '4E': Card(suit='E', face=4, owner=''), '4C': Card(suit='C', face=4, owner=''), '5B': Card(suit='B', face=5, owner=''), '5O': Card(suit='O', face=5, owner=''), '5E': Card(suit='E', face=5, owner=''), '5C': Card(suit='C', face=5, owner=''), '6B': Card(suit='B', face=6, owner=''), '6O': Card(suit='O', face=6, owner=''), '6E': Card(suit='E', face=6, owner=''), '6C': Card(suit='C', face=6, owner=''), '7B': Card(suit='B', face=7, owner=''), '7O': Card(suit='O', face=7, owner=''), '7E': Card(suit='E', face=7, owner=''), '7C': Card(suit='C', face=7, owner=''), '8B': Card(suit='B', face=8, owner=''), '8O': Card(suit='O', face=8, owner=''), '8E': Card(suit='E', face=8, owner=''), '8C': Card(suit='C', face=8, owner=''), '9B': Card(suit='B', face=9, owner=''), '9O': Card(suit='O', face=9, owner=''), '9E': Card(suit='E', face=9, owner=''), '9C': Card(suit='C', face=9, owner=''), '10B': Card(suit='B', face=10, owner=''), '10O': Card(suit='O', face=10, owner=''), '10E': Card(suit='E', face=10, owner=''), '10C': Card(suit='C', face=10, owner='')}\n"
     ]
    }
   ],
   "source": [
    "CardStore = make_deck()\n",
    "\n",
    "print(CardStore)"
   ]
  },
  {
   "cell_type": "code",
   "execution_count": 15,
   "metadata": {},
   "outputs": [],
   "source": [
    "def make_deck_from(card_ids :list):\n",
    "  return { card_id: CardStore[card_id] for card_id in card_ids }\n",
    "\n"
   ]
  },
  {
   "cell_type": "code",
   "execution_count": 16,
   "metadata": {},
   "outputs": [],
   "source": [
    "def shuffle(deck :list):\n",
    "  random.shuffle(deck)\n",
    "  return deck\n"
   ]
  },
  {
   "cell_type": "code",
   "execution_count": 17,
   "metadata": {},
   "outputs": [],
   "source": [
    "def get_escombinations(cards: set, pivot: str):\n",
    "  combos = set()\n",
    "  #combos.add(frozenset(cards | set([pivot])))\n",
    "  for i in range(len(cards)):\n",
    "    r = len(cards) + 1 - i # combinatorial order (from the 5 choose 'x' where 'x' is order)\n",
    "    combs = combinations(cards | set([pivot]),r)\n",
    "    for combo in  combs:\n",
    "      combo_vals = [CardStore[c].face for c in combo ]\n",
    "      if ( pivot in combo  # pivot card is the player's card - has to be part of combo\n",
    "      and sum(combo_vals) == 15 # only plays that add to 15 are considered, all other plays are equivalent to laying down card on table\n",
    "      or r > len(cards) ):\n",
    "        combos.add(combo)\n",
    "  return combos"
   ]
  },
  {
   "cell_type": "code",
   "execution_count": 18,
   "metadata": {},
   "outputs": [],
   "source": [
    "class Deck:\n",
    "  card_store = {}\n",
    "\n",
    "  deck_order = []\n",
    "  def __init__(self,card_store={}):\n",
    "    self.card_store = card_store\n",
    "    self.deck_order = list(card_store.keys())\n",
    "    random.shuffle(self.deck_order)\n",
    "    print(\"Hello deck {}\".format(self.deck_order))\n",
    "  def shuffle(self):\n",
    "    return random.shuffle(self.deck_order)\n",
    "  def deal(self, n=1, owner=''):\n",
    "    d = self.deck_order[:n]\n",
    "    self.deck_order = self.deck_order[n:]\n",
    "    return set(d)\n",
    "    # def update_store(card,store, owner):\n",
    "    #   store.owner = owner\n",
    "    #   return store[card]\n",
    "    # return [update_store(delt,self.card_store, owner) for delt in d]\n",
    "  def cards(self):\n",
    "    return self.card_store\n",
    "  def order(self):\n",
    "    return self.deck_order"
   ]
  },
  {
   "cell_type": "code",
   "execution_count": 36,
   "metadata": {},
   "outputs": [
    {
     "name": "stdout",
     "output_type": "stream",
     "text": [
      "Hello deck ['5C', '1O', '8O', '9B', '9E', '10C', '3C', '2E', '9C', '3E', '5O', '6B', '8C', '4C', '4O', '1B', '1E', '4B', '8B', '7C', '7E', '9O', '8E', '5E', '10E', '5B', '3O', '2B', '1C', '2C', '6O', '7B', '10B', '7O', '6C', '4E', '10O', '3B', '6E', '2O']\n",
      "<__main__.Deck object at 0x7fc1e6b14940>\n"
     ]
    }
   ],
   "source": [
    "print(Deck(Cardstore))"
   ]
  },
  {
   "cell_type": "code",
   "execution_count": null,
   "metadata": {},
   "outputs": [],
   "source": [
    "print(Deck(Cardstore).deal())"
   ]
  },
  {
   "cell_type": "code",
   "execution_count": 19,
   "metadata": {},
   "outputs": [],
   "source": [
    "class Player: \n",
    "  score = 0\n",
    "  hand = set()\n",
    "  name = ''\n",
    "  def __init__(self, name, hand=[]):\n",
    "    self.name = name\n",
    "  def play_turn(self,deck):\n",
    "    return NotImplemented\n",
    "  def new_hand(self, cards):\n",
    "    self.hand = cards\n",
    "  def award_point(self, points=1):\n",
    "    self.score += points\n",
    "  def get_play(self, playable: list, table_cards=[]):\n",
    "    play = set()\n",
    "    if len(playable) == 0: # never happens\n",
    "      play.add(random.choice(list(self.hand)))  # no playable because table_cards were probably empty so play random card\n",
    "    else:\n",
    "      play = playable\n",
    "    #for card in play:\n",
    "      #if card in self.hand:\n",
    "        #self.hand.discard(card)\n",
    "    if len(play) > 1 :\n",
    "      good_hands = [p for p in play if sum([CardStore[c].face for c in p]) == 15 ]\n",
    "      if len(good_hands) > 0:\n",
    "        return random.choice(good_hands)\n",
    "      return random.choice(list(play))\n",
    "    return play.pop()\n",
    "\n"
   ]
  },
  {
   "cell_type": "code",
   "execution_count": 20,
   "metadata": {},
   "outputs": [
    {
     "name": "stdout",
     "output_type": "stream",
     "text": [
      "Hello deck []\n",
      "Hello deck []\n"
     ]
    }
   ],
   "source": [
    "class Game:\n",
    "  deck = Deck()\n",
    "  pl1 = Player('p1')\n",
    "  pl2 = Player('p2')\n",
    "  table_cards = set()\n",
    "  def __init__(self, pl1, pl2, deck=Deck()):\n",
    "    self.pl1 = pl1\n",
    "    self.pl2 = pl2\n",
    "    self.deck = deck\n",
    "    print(\"Start game\")\n",
    "    #return NotImplemented\n",
    "\n",
    "    "
   ]
  },
  {
   "cell_type": "code",
   "execution_count": 23,
   "metadata": {},
   "outputs": [],
   "source": [
    "def set_card_owner(self, card, owner):\n",
    "    c = self.deck.cards()[card]\n",
    "    self.deck.cards()[card] = Card(suit=c.suit, face=c.face, owner=owner)\n",
    "\n"
   ]
  },
  {
   "cell_type": "code",
   "execution_count": 24,
   "metadata": {},
   "outputs": [],
   "source": [
    "def reset_deck(self):\n",
    "    self.deck = Deck(make_deck())\n",
    "\n"
   ]
  },
  {
   "cell_type": "code",
   "execution_count": 25,
   "metadata": {},
   "outputs": [],
   "source": [
    "def deal_hand(self):\n",
    "    p1 = set()\n",
    "    p2 = set()\n",
    "    # deal out to p1 and p2 alternating 3 each\n",
    "    for count in range(0,3):\n",
    "      [ p1.add(d) for d in self.deck.deal()]\n",
    "      [ p2.add(d) for d in self.deck.deal()]\n",
    "    return p1,p2"
   ]
  },
  {
   "cell_type": "code",
   "execution_count": 26,
   "metadata": {},
   "outputs": [],
   "source": [
    "def deal_start(self):\n",
    "    p1,p2 = self.deal_hand()\n",
    "    start_table_cards = self.deck.deal(4)\n",
    "    return p1,p2,start_table_cards\n"
   ]
  },
  {
   "cell_type": "code",
   "execution_count": 27,
   "metadata": {},
   "outputs": [],
   "source": [
    "def valid_plays(self, player, table_cards: set):\n",
    "    # visible_cards = [card for card_id, card in self.deck.cards.items() if (card.owner == 'table') ]\n",
    "    plays = set()\n",
    "    for card in player.hand:\n",
    "      if (len(table_cards) > 0):\n",
    "        combo_cards = set(table_cards)\n",
    "        escombinations = get_escombinations(combo_cards,card)\n",
    "        for combo in escombinations:\n",
    "          plays.add(combo)\n",
    "      else:\n",
    "        plays.add(tuple(player.hand))\n",
    "    return plays"
   ]
  },
  {
   "cell_type": "code",
   "execution_count": 28,
   "metadata": {},
   "outputs": [],
   "source": [
    "def apply_play(self,play, player):\n",
    "    # validate(play)\n",
    "    playable = self.valid_plays(player, self.table_cards)\n",
    "    scored = False\n",
    "    t_cards = self.table_cards\n",
    "    #p_cards = play.pop()\n",
    "    p_cards = play\n",
    "    if p_cards in playable:\n",
    "      if isinstance(p_cards,str):\n",
    "        card_values = [self.deck.card_store[p_cards].face]\n",
    "      else:\n",
    "        card_values = [self.deck.card_store[c].face for c in p_cards ]\n",
    "      # assign card owners\n",
    "      s = sum(card_values)\n",
    "      if ( s == 15):\n",
    "        scored = True\n",
    "        for card in p_cards:\n",
    "          self.set_card_owner(card, player.name)\n",
    "          if card in self.table_cards:\n",
    "            self.table_cards.discard(card)\n",
    "      else:\n",
    "        if isinstance(p_cards, str):\n",
    "          self.table_cards.update({p_cards})\n",
    "        else:\n",
    "          self.table_cards.update(p_cards)\n",
    "    \n",
    "    for card in p_cards:\n",
    "      if card in player.hand:\n",
    "        player.hand.discard(card)\n",
    "    if not self.table_cards:\n",
    "      player.award_point() #escoba\n",
    "      print(f\"{player.name} Escoba!\")\n",
    "      self.print_score()\n",
    "    return scored"
   ]
  },
  {
   "cell_type": "code",
   "execution_count": 29,
   "metadata": {},
   "outputs": [],
   "source": [
    "def apply_score(self):\n",
    "    p1_total = set()\n",
    "    p1_oros = set()\n",
    "    p1_sevens = set()\n",
    "\n",
    "    p2_total = set()\n",
    "    p2_sevens = set()\n",
    "    p2_oros = set()\n",
    "\n",
    "    for card_id, card in self.deck.cards().items():\n",
    "      if (card.owner == self.pl1.name):\n",
    "        p1_total.add(card_id)\n",
    "        if card.suit == 'O': p1_oros.add(card_id) \n",
    "        if card.face == 7: p1_sevens.add(card_id) \n",
    "      else:\n",
    "        p2_total.add(card_id)\n",
    "        if card.suit == 'O': p2_oros.add(card_id)\n",
    "        if card.face == 7: p2_sevens.add(card_id)\n",
    "\n",
    "      if card_id == '7O':\n",
    "        self.pl1.award_point() if card.owner == self.pl1.name else self.pl2.award_point()\n",
    "      \n",
    "    if len(p1_total) > len(p2_total):\n",
    "      self.pl1.award_point()\n",
    "    elif len(p2_total) > len(p1_total):\n",
    "      self.pl2.award_point()\n",
    "    \n",
    "    if len(p1_oros) > len(p2_oros):\n",
    "      self.pl1.award_point()\n",
    "    elif len(p2_oros) > len(p1_oros):\n",
    "      self.pl2.award_point()\n",
    "    \n",
    "    if len(p1_sevens) > len(p2_sevens):\n",
    "      self.pl1.award_point()\n",
    "    elif len(p2_sevens) > len(p1_sevens):\n",
    "      self.pl2.award_point()\n",
    "    print(f'Points:\\tPL1\\tPL2\\nOros:\\t[{len(p1_oros)}]\\t[{len(p2_oros)}]\\nSevens:\\t[{len(p1_sevens)}]\\t[{len(p2_sevens)}]\\nCards:\\t[{len(p1_total)}]\\t[{len(p2_total)}]')"
   ]
  },
  {
   "cell_type": "code",
   "execution_count": 30,
   "metadata": {},
   "outputs": [],
   "source": [
    "def print_score(self):\n",
    "    print(\"Player 1 score: {}\\nPlayer 2 score: {}\".format(self.pl1.score, self.pl2.score))"
   ]
  },
  {
   "cell_type": "code",
   "execution_count": null,
   "metadata": {},
   "outputs": [],
   "source": []
  },
  {
   "cell_type": "code",
   "execution_count": 31,
   "metadata": {},
   "outputs": [],
   "source": [
    "def play_round(self, first_player, second_player):\n",
    "    p1_cards, p2_cards ,table_cards = self.deal_start()\n",
    "    first_player.new_hand(p1_cards)\n",
    "    second_player.new_hand(p2_cards)\n",
    "    self.table_cards = table_cards\n",
    "    \n",
    "    last_scored = ''\n",
    "    cards_left = len(self.deck.order())\n",
    "    while len(self.deck.order()) > 0:\n",
    "      if len(first_player.hand) == 0 and len(second_player.hand) == 0:\n",
    "        p1_cards, p2_cards = self.deal_hand()\n",
    "        first_player.new_hand(p1_cards)\n",
    "        second_player.new_hand(p2_cards)\n",
    "        cards_left = len(self.deck.order())\n",
    "\n",
    "\n",
    "      # hand per player\n",
    "      while (len(first_player.hand) + len(second_player.hand) > 0):\n",
    "        if (len(first_player.hand)):\n",
    "          playable = self.valid_plays(first_player,self.table_cards)\n",
    "          play = first_player.get_play(playable)\n",
    "          if self.apply_play(play,first_player): last_scored = first_player.name\n",
    "\n",
    "        if (len(second_player.hand)):\n",
    "          playable = self.valid_plays(second_player,self.table_cards)\n",
    "          play = second_player.get_play(playable)\n",
    "          if self.apply_play(play,second_player): last_scored = second_player.name\n",
    "\n",
    "    # award last_player_to_score remaining cards\n",
    "    [self.set_card_owner(card_id, last_scored) for card_id, card in self.deck.cards().items() if card.owner == '']\n",
    "    self.apply_score()\n"
   ]
  },
  {
   "cell_type": "code",
   "execution_count": 33,
   "metadata": {},
   "outputs": [
    {
     "name": "stdout",
     "output_type": "stream",
     "text": [
      "Hello deck []\n",
      "Hello deck []\n"
     ]
    }
   ],
   "source": [
    "class Game:\n",
    "  deck = Deck()\n",
    "  pl1 = Player('p1')\n",
    "  pl2 = Player('p2')\n",
    "  table_cards = set()\n",
    "  def __init__(self, pl1, pl2, deck=Deck()):\n",
    "    self.pl1 = pl1\n",
    "    self.pl2 = pl2\n",
    "    self.deck = deck\n",
    "    print(\"Start game\")\n",
    "    #return NotImplemented\n",
    "\n",
    "  def set_card_owner(self, card, owner):\n",
    "    c = self.deck.cards()[card]\n",
    "    self.deck.cards()[card] = Card(suit=c.suit, face=c.face, owner=owner)\n",
    "\n",
    "  def reset_deck(self):\n",
    "    self.deck = Deck(make_deck())\n",
    "    \n",
    "  def deal_hand(self):\n",
    "    p1 = set()\n",
    "    p2 = set()\n",
    "    # deal out to p1 and p2 alternating 3 each\n",
    "    for count in range(0,3):\n",
    "      [ p1.add(d) for d in self.deck.deal()]\n",
    "      [ p2.add(d) for d in self.deck.deal()]\n",
    "    return p1,p2\n",
    "\n",
    "  def deal_start(self):\n",
    "    p1,p2 = self.deal_hand()\n",
    "    start_table_cards = self.deck.deal(4)\n",
    "    return p1,p2,start_table_cards\n",
    "\n",
    "  def valid_plays(self, player, table_cards: set):\n",
    "    # visible_cards = [card for card_id, card in self.deck.cards.items() if (card.owner == 'table') ]\n",
    "    plays = set()\n",
    "    for card in player.hand:\n",
    "      if (len(table_cards) > 0):\n",
    "        combo_cards = set(table_cards)\n",
    "        escombinations = get_escombinations(combo_cards,card)\n",
    "        for combo in escombinations:\n",
    "          plays.add(combo)\n",
    "      else:\n",
    "        plays.add(tuple(player.hand))\n",
    "    return plays\n",
    "\n",
    "  def apply_play(self,play, player):\n",
    "    # validate(play)\n",
    "    playable = self.valid_plays(player, self.table_cards)\n",
    "    scored = False\n",
    "    t_cards = self.table_cards\n",
    "    #p_cards = play.pop()\n",
    "    p_cards = play\n",
    "    if p_cards in playable:\n",
    "      if isinstance(p_cards,str):\n",
    "        card_values = [self.deck.card_store[p_cards].face]\n",
    "      else:\n",
    "        card_values = [self.deck.card_store[c].face for c in p_cards ]\n",
    "      # assign card owners\n",
    "      s = sum(card_values)\n",
    "      if ( s == 15):\n",
    "        scored = True\n",
    "        for card in p_cards:\n",
    "          self.set_card_owner(card, player.name)\n",
    "          if card in self.table_cards:\n",
    "            self.table_cards.discard(card)\n",
    "      else:\n",
    "        if isinstance(p_cards, str):\n",
    "          self.table_cards.update({p_cards})\n",
    "        else:\n",
    "          self.table_cards.update(p_cards)\n",
    "    \n",
    "    for card in p_cards:\n",
    "      if card in player.hand:\n",
    "        player.hand.discard(card)\n",
    "    if not self.table_cards:\n",
    "      player.award_point() #escoba\n",
    "      print(f\"{player.name} Escoba!\")\n",
    "      self.print_score()\n",
    "    return scored\n",
    "\n",
    "  def apply_score(self):\n",
    "    p1_total = set()\n",
    "    p1_oros = set()\n",
    "    p1_sevens = set()\n",
    "\n",
    "    p2_total = set()\n",
    "    p2_sevens = set()\n",
    "    p2_oros = set()\n",
    "\n",
    "    for card_id, card in self.deck.cards().items():\n",
    "      if (card.owner == self.pl1.name):\n",
    "        p1_total.add(card_id)\n",
    "        if card.suit == 'O': p1_oros.add(card_id) \n",
    "        if card.face == 7: p1_sevens.add(card_id) \n",
    "      else:\n",
    "        p2_total.add(card_id)\n",
    "        if card.suit == 'O': p2_oros.add(card_id)\n",
    "        if card.face == 7: p2_sevens.add(card_id)\n",
    "\n",
    "      if card_id == '7O':\n",
    "        self.pl1.award_point() if card.owner == self.pl1.name else self.pl2.award_point()\n",
    "      \n",
    "    if len(p1_total) > len(p2_total):\n",
    "      self.pl1.award_point()\n",
    "    elif len(p2_total) > len(p1_total):\n",
    "      self.pl2.award_point()\n",
    "    \n",
    "    if len(p1_oros) > len(p2_oros):\n",
    "      self.pl1.award_point()\n",
    "    elif len(p2_oros) > len(p1_oros):\n",
    "      self.pl2.award_point()\n",
    "    \n",
    "    if len(p1_sevens) > len(p2_sevens):\n",
    "      self.pl1.award_point()\n",
    "    elif len(p2_sevens) > len(p1_sevens):\n",
    "      self.pl2.award_point()\n",
    "    print(f'Points:\\tPL1\\tPL2\\nOros:\\t[{len(p1_oros)}]\\t[{len(p2_oros)}]\\nSevens:\\t[{len(p1_sevens)}]\\t[{len(p2_sevens)}]\\nCards:\\t[{len(p1_total)}]\\t[{len(p2_total)}]')\n",
    "\n",
    "  def play_round(self, first_player, second_player):\n",
    "    p1_cards, p2_cards ,table_cards = self.deal_start()\n",
    "    first_player.new_hand(p1_cards)\n",
    "    second_player.new_hand(p2_cards)\n",
    "    self.table_cards = table_cards\n",
    "    \n",
    "    last_scored = ''\n",
    "    cards_left = len(self.deck.order())\n",
    "    while len(self.deck.order()) > 0:\n",
    "      if len(first_player.hand) == 0 and len(second_player.hand) == 0:\n",
    "        p1_cards, p2_cards = self.deal_hand()\n",
    "        first_player.new_hand(p1_cards)\n",
    "        second_player.new_hand(p2_cards)\n",
    "        cards_left = len(self.deck.order())\n",
    "\n",
    "\n",
    "      # hand per player\n",
    "      while (len(first_player.hand) + len(second_player.hand) > 0):\n",
    "        if (len(first_player.hand)):\n",
    "          playable = self.valid_plays(first_player,self.table_cards)\n",
    "          play = first_player.get_play(playable)\n",
    "          if self.apply_play(play,first_player): last_scored = first_player.name\n",
    "\n",
    "        if (len(second_player.hand)):\n",
    "          playable = self.valid_plays(second_player,self.table_cards)\n",
    "          play = second_player.get_play(playable)\n",
    "          if self.apply_play(play,second_player): last_scored = second_player.name\n",
    "\n",
    "    # award last_player_to_score remaining cards\n",
    "    [self.set_card_owner(card_id, last_scored) for card_id, card in self.deck.cards().items() if card.owner == '']\n",
    "    self.apply_score()\n",
    "\n",
    "  def print_score(self):\n",
    "        print(\"Player 1 score: {}\\nPlayer 2 score: {}\".format(self.pl1.score, self.pl2.score))\n",
    "    \n"
   ]
  },
  {
   "cell_type": "code",
   "execution_count": 34,
   "metadata": {},
   "outputs": [
    {
     "name": "stdout",
     "output_type": "stream",
     "text": [
      "Hello deck ['7O', '5O', '8E', '4E', '9B', '3E', '2B', '6E', '9C', '4C', '5C', '6C', '3C', '8B', '9O', '8C', '2O', '1C', '1B', '1O', '10O', '3O', '10B', '2C', '10E', '4B', '7C', '2E', '7E', '10C', '6O', '7B', '4O', '3B', '5B', '6B', '8O', '9E', '5E', '1E']\n",
      "Start game\n",
      "Hello deck ['7E', '1C', '2O', '5B', '10E', '8B', '3B', '6B', '3C', '7B', '4O', '8C', '2E', '6O', '9B', '1E', '5E', '3E', '1O', '2C', '8O', '10O', '9C', '9E', '4C', '10B', '1B', '8E', '5C', '6C', '4E', '5O', '6E', '10C', '9O', '7C', '4B', '7O', '3O', '2B']\n",
      "player_1 Escoba!\n",
      "Player 1 score: 1\n",
      "Player 2 score: 0\n",
      "player_2 Escoba!\n",
      "Player 1 score: 1\n",
      "Player 2 score: 1\n",
      "player_1 Escoba!\n",
      "Player 1 score: 2\n",
      "Player 2 score: 1\n",
      "Points:\tPL1\tPL2\n",
      "Oros:\t[4]\t[6]\n",
      "Sevens:\t[2]\t[2]\n",
      "Cards:\t[20]\t[20]\n",
      "Round 1:\n",
      "\tPlayer 1 score: 2\n",
      "\tPlayer 2 score: 3\n",
      "Hello deck ['4B', '6E', '9C', '1B', '6O', '7O', '2E', '4E', '9E', '10E', '5B', '6B', '7C', '1C', '3E', '10B', '3O', '8E', '5C', '2C', '2O', '10C', '10O', '7E', '1E', '3B', '3C', '8B', '8C', '5E', '2B', '5O', '8O', '6C', '9B', '9O', '4O', '7B', '4C', '1O']\n",
      "player_1 Escoba!\n",
      "Player 1 score: 3\n",
      "Player 2 score: 3\n",
      "player_1 Escoba!\n",
      "Player 1 score: 4\n",
      "Player 2 score: 3\n",
      "player_1 Escoba!\n",
      "Player 1 score: 5\n",
      "Player 2 score: 3\n",
      "Points:\tPL1\tPL2\n",
      "Oros:\t[3]\t[7]\n",
      "Sevens:\t[3]\t[1]\n",
      "Cards:\t[22]\t[18]\n",
      "Round 2:\n",
      "\tPlayer 1 score: 8\n",
      "\tPlayer 2 score: 4\n",
      "Hello deck ['4B', '4E', '1C', '5C', '10O', '7E', '5B', '8C', '3O', '2B', '8E', '9C', '3E', '7B', '7O', '4C', '2E', '9E', '10C', '6O', '1E', '5E', '6C', '8B', '8O', '2O', '4O', '5O', '3C', '6B', '2C', '3B', '9O', '10E', '7C', '1O', '10B', '6E', '1B', '9B']\n",
      "player_1 Escoba!\n",
      "Player 1 score: 9\n",
      "Player 2 score: 4\n",
      "player_2 Escoba!\n",
      "Player 1 score: 9\n",
      "Player 2 score: 5\n",
      "player_2 Escoba!\n",
      "Player 1 score: 9\n",
      "Player 2 score: 6\n",
      "Points:\tPL1\tPL2\n",
      "Oros:\t[2]\t[8]\n",
      "Sevens:\t[2]\t[2]\n",
      "Cards:\t[11]\t[29]\n",
      "Round 3:\n",
      "\tPlayer 1 score: 9\n",
      "\tPlayer 2 score: 9\n",
      "Hello deck ['9E', '2C', '3C', '3O', '8C', '4C', '6C', '9B', '5B', '4E', '8B', '6O', '8E', '9C', '10E', '7E', '10B', '1E', '2E', '7C', '3E', '1C', '9O', '4B', '5C', '2B', '1B', '5E', '10O', '4O', '7B', '2O', '10C', '3B', '5O', '7O', '6B', '1O', '6E', '8O']\n",
      "player_1 Escoba!\n",
      "Player 1 score: 10\n",
      "Player 2 score: 9\n",
      "player_1 Escoba!\n",
      "Player 1 score: 11\n",
      "Player 2 score: 9\n",
      "player_1 Escoba!\n",
      "Player 1 score: 12\n",
      "Player 2 score: 9\n",
      "Points:\tPL1\tPL2\n",
      "Oros:\t[10]\t[0]\n",
      "Sevens:\t[3]\t[1]\n",
      "Cards:\t[32]\t[8]\n",
      "Round 4:\n",
      "\tPlayer 1 score: 16\n",
      "\tPlayer 2 score: 9\n"
     ]
    }
   ],
   "source": [
    "p1 = Player('player_1')\n",
    "p2 = Player('player_2')\n",
    "deck = Deck(make_deck())\n",
    "g = Game(p1,p2,deck)\n",
    "  \n",
    "rounds = 0\n",
    "while (p1.score < 15 and p2.score < 15):\n",
    "    rounds += 1\n",
    "    g.reset_deck()\n",
    "    if (rounds % 2 == 1):\n",
    "      g.play_round(p1,p2)\n",
    "    else:\n",
    "      g.play_round(p2,p1)\n",
    "    print(\"Round {}:\\n\\tPlayer 1 score: {}\\n\\tPlayer 2 score: {}\".format(rounds, p1.score, p2.score))"
   ]
  },
  {
   "cell_type": "code",
   "execution_count": null,
   "metadata": {},
   "outputs": [],
   "source": []
  }
 ],
 "metadata": {
  "kernelspec": {
   "display_name": "Python (PythonData)",
   "language": "python",
   "name": "pythondata"
  },
  "language_info": {
   "codemirror_mode": {
    "name": "ipython",
    "version": 3
   },
   "file_extension": ".py",
   "mimetype": "text/x-python",
   "name": "python",
   "nbconvert_exporter": "python",
   "pygments_lexer": "ipython3",
   "version": "3.6.8"
  }
 },
 "nbformat": 4,
 "nbformat_minor": 2
}
